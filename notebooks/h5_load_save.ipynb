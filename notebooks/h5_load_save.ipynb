{
 "cells": [
  {
   "cell_type": "markdown",
   "id": "9f529fac",
   "metadata": {},
   "source": [
    "Load and save an h5 dataset"
   ]
  },
  {
   "cell_type": "code",
   "execution_count": null,
   "id": "3a3f4dfd",
   "metadata": {},
   "outputs": [],
   "source": [
    "import os\n",
    "import h5py\n",
    "from matplotlib import pyplot as plt"
   ]
  },
  {
   "cell_type": "code",
   "execution_count": null,
   "id": "5d94af8f",
   "metadata": {},
   "outputs": [],
   "source": [
    "load_path = 'data/im_Yx2.h5'\n",
    "save_path = 'data/processed/'"
   ]
  },
  {
   "cell_type": "code",
   "execution_count": null,
   "id": "83faf032",
   "metadata": {},
   "outputs": [],
   "source": [
    "with h5py.File(load_path, \"r\") as h5_load, \\\n",
    "     h5py.File(os.path.join(save_path, load_path.split(\"/\")[-1]), \"w\") as h5_save:\n",
    "    \n",
    "    h5_img = h5_load.get(list(h5_load.keys())[0])\n",
    "\n",
    "    ### process the data ###\n",
    "\n",
    "    h5_dataset = h5_save.create_dataset('main', data=h5_img, shape=h5_img.shape, dtype=h5_img.dtype)"
   ]
  }
 ],
 "metadata": {
  "kernelspec": {
   "display_name": "Python 3 (ipykernel)",
   "language": "python",
   "name": "python3"
  },
  "language_info": {
   "codemirror_mode": {
    "name": "ipython",
    "version": 3
   },
   "file_extension": ".py",
   "mimetype": "text/x-python",
   "name": "python",
   "nbconvert_exporter": "python",
   "pygments_lexer": "ipython3",
   "version": "3.8.13"
  }
 },
 "nbformat": 4,
 "nbformat_minor": 5
}
