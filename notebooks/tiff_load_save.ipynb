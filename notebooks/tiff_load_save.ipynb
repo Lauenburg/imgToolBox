{
 "cells": [
  {
   "cell_type": "markdown",
   "id": "21f7fec4",
   "metadata": {},
   "source": [
    "Load and save an TIFF dataset"
   ]
  },
  {
   "cell_type": "code",
   "execution_count": null,
   "id": "4bdb5731",
   "metadata": {},
   "outputs": [],
   "source": [
    "import os\n",
    "import tifffile"
   ]
  },
  {
   "cell_type": "code",
   "execution_count": null,
   "id": "2f5008ec",
   "metadata": {},
   "outputs": [],
   "source": [
    "load_path = 'data/im_Yx2.h5'\n",
    "save_path = 'data/processed/'"
   ]
  },
  {
   "cell_type": "code",
   "execution_count": null,
   "id": "6eadd2e6",
   "metadata": {},
   "outputs": [],
   "source": [
    "with tifffile.TiffFile(load_path) as tif_load:\n",
    "    tif_img = np.asarray([t.asarray() for t in tif.pages[:]])    \n",
    "    \n",
    "    ### process the data ###\n",
    "    \n",
    "    tifffile.imsave(os.path.join(save_path, load_path.split(\"/\")[-1]), tif_img)"
   ]
  }
 ],
 "metadata": {
  "kernelspec": {
   "display_name": "Python 3 (ipykernel)",
   "language": "python",
   "name": "python3"
  },
  "language_info": {
   "codemirror_mode": {
    "name": "ipython",
    "version": 3
   },
   "file_extension": ".py",
   "mimetype": "text/x-python",
   "name": "python",
   "nbconvert_exporter": "python",
   "pygments_lexer": "ipython3",
   "version": "3.8.13"
  }
 },
 "nbformat": 4,
 "nbformat_minor": 5
}
