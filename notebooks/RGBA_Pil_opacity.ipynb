{
 "cells": [
  {
   "cell_type": "markdown",
   "id": "3c8ce995",
   "metadata": {},
   "source": [
    "Set the color-specific opacity within an image to zero.\n",
    "My corresponding StackOverflow answer: https://stackoverflow.com/a/71859851/11918697"
   ]
  },
  {
   "cell_type": "code",
   "execution_count": null,
   "id": "ed4f549d",
   "metadata": {},
   "outputs": [],
   "source": [
    "import numpy as np\n",
    "from PIL import Image"
   ]
  },
  {
   "cell_type": "code",
   "execution_count": null,
   "id": "621df3a2",
   "metadata": {},
   "outputs": [],
   "source": [
    "path_img = \"../data/sample.png\""
   ]
  },
  {
   "cell_type": "code",
   "execution_count": null,
   "id": "079da696",
   "metadata": {},
   "outputs": [],
   "source": [
    "img = Image.open('img.png') # n x m x 3\n",
    "imga = img.convert(\"RGBA\")  # n x m x 4"
   ]
  },
  {
   "cell_type": "code",
   "execution_count": null,
   "id": "d0683940",
   "metadata": {},
   "outputs": [],
   "source": [
    "# example: change the opacity of all white pixels to zero\n",
    "\n",
    "imga = np.asarray(imga) \n",
    "r, g, b, a = np.rollaxis(imga, axis=-1) # split into 4 n x m arrays \n",
    "r_m = r != 255 # binary mask for red channel, True for all non white values\n",
    "g_m = g != 255 # binary mask for green channel, True for all non white values\n",
    "b_m = b != 255 # binary mask for blue channel, True for all non white values\n",
    "\n",
    "# combine the three binary masks by multiplying them (1*1=1, 1*0=0, 0*1=0, 0*0=0)\n",
    "# multiply the combined binary mask with the alpha channel\n",
    "a = a * (r_m * g_m * b_m)\n",
    "\n",
    "imga =  Image.fromarray(np.dstack([r, g, b, a]), 'RGBA') # stack the img back together "
   ]
  },
  {
   "cell_type": "code",
   "execution_count": null,
   "id": "1fd3c8af",
   "metadata": {},
   "outputs": [],
   "source": []
  }
 ],
 "metadata": {
  "kernelspec": {
   "display_name": "Python 3 (ipykernel)",
   "language": "python",
   "name": "python3"
  },
  "language_info": {
   "codemirror_mode": {
    "name": "ipython",
    "version": 3
   },
   "file_extension": ".py",
   "mimetype": "text/x-python",
   "name": "python",
   "nbconvert_exporter": "python",
   "pygments_lexer": "ipython3",
   "version": "3.8.13"
  }
 },
 "nbformat": 4,
 "nbformat_minor": 5
}
